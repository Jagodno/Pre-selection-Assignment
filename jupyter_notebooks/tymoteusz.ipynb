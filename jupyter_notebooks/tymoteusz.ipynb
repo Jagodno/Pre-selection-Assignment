{
 "cells": [
  {
   "cell_type": "code",
   "execution_count": 9,
   "id": "initial_id",
   "metadata": {
    "collapsed": true,
    "ExecuteTime": {
     "end_time": "2024-03-11T12:41:53.690304Z",
     "start_time": "2024-03-11T12:41:53.485201Z"
    }
   },
   "outputs": [],
   "source": [
    "import sys\n",
    "sys.path.append('../source')\n",
    "from sanitization import *\n",
    "descriptions = get_descriptions('../data/descriptions.txt')\n",
    "dev = pd.read_csv('../data/development_sample.csv')\n",
    "test = pd.read_csv('../data/testing_sample.csv')\n"
   ]
  },
  {
   "cell_type": "code",
   "outputs": [
    {
     "name": "stdout",
     "output_type": "stream",
     "text": [
      "         ID  customer_id   application_date  target Application_status  Var1  \\\n",
      "0  11034977     32537148  01Feb2010 0:00:00     0.0           Approved     1   \n",
      "1  11034978     32761663  01Feb2010 0:00:00     0.0           Approved     1   \n",
      "2  11034979     32701063  01Feb2010 0:00:00     0.0           Approved     2   \n",
      "3  11034980     32386786  01Feb2010 0:00:00     0.0           Approved     3   \n",
      "4  11034981     32692110  02Feb2010 0:00:00     NaN           Rejected     1   \n",
      "\n",
      "   Var2 Var3   Var4  Var5  ...  Var22  Var23  Var24    Var25     Var26  Var27  \\\n",
      "0   2.0    1   7800    99  ...      1      1      0  6768.42      0.00      0   \n",
      "1   1.0    2  11100    78  ...      0      0  15000  5937.66   3870.60      0   \n",
      "2   3.0    1   2400    15  ...      2      2      0  5647.77   1463.08      0   \n",
      "3   1.0    2  11800    30  ...      0      0      0  3594.90  21563.78      0   \n",
      "4   2.0    1  10200    72  ...      2      2      0  9908.45      0.00      0   \n",
      "\n",
      "   Var28 Var29  Var30       _r_  \n",
      "0      0     0   3899  0.267045  \n",
      "1      0     0   3899  0.533040  \n",
      "2      0    10   3899  0.861555  \n",
      "3      0    10   3899  0.506451  \n",
      "4      0    20   3899  0.210913  \n",
      "\n",
      "[5 rows x 36 columns]\n",
      "ID                        0\n",
      "customer_id               0\n",
      "application_date          0\n",
      "target                13282\n",
      "Application_status        0\n",
      "Var1                      0\n",
      "Var2                   1403\n",
      "Var3                   1403\n",
      "Var4                      0\n",
      "Var5                      0\n",
      "Var6                      0\n",
      "Var7                      0\n",
      "Var8                  29173\n",
      "Var9                      0\n",
      "Var10                 37538\n",
      "Var11                     0\n",
      "Var12                 37538\n",
      "Var13                     0\n",
      "Var14                     0\n",
      "Var15                     0\n",
      "Var16                     0\n",
      "Var17                    40\n",
      "Var18                 37416\n",
      "Var19                 29173\n",
      "Var20                     0\n",
      "Var21                     0\n",
      "Var22                     0\n",
      "Var23                     0\n",
      "Var24                     0\n",
      "Var25                 10088\n",
      "Var26                 19883\n",
      "Var27                     0\n",
      "Var28                     0\n",
      "Var29                     0\n",
      "Var30                     0\n",
      "_r_                       0\n",
      "dtype: int64\n",
      "ID                      int64\n",
      "customer_id             int64\n",
      "application_date       object\n",
      "target                float64\n",
      "Application_status     object\n",
      "Var1                    int64\n",
      "Var2                  float64\n",
      "Var3                   object\n",
      "Var4                    int64\n",
      "Var5                    int64\n",
      "Var6                    int64\n",
      "Var7                  float64\n",
      "Var8                  float64\n",
      "Var9                    int64\n",
      "Var10                 float64\n",
      "Var11                   int64\n",
      "Var12                 float64\n",
      "Var13                  object\n",
      "Var14                   int64\n",
      "Var15                   int64\n",
      "Var16                   int64\n",
      "Var17                 float64\n",
      "Var18                 float64\n",
      "Var19                 float64\n",
      "Var20                   int64\n",
      "Var21                   int64\n",
      "Var22                   int64\n",
      "Var23                   int64\n",
      "Var24                   int64\n",
      "Var25                 float64\n",
      "Var26                 float64\n",
      "Var27                   int64\n",
      "Var28                   int64\n",
      "Var29                   int64\n",
      "Var30                   int64\n",
      "_r_                   float64\n",
      "dtype: object\n",
      "    application_date Application_status Var3      Var13\n",
      "0  01Feb2010 0:00:00           Approved    1  26Nov2004\n",
      "1  01Feb2010 0:00:00           Approved    2  16Sep1996\n",
      "2  01Feb2010 0:00:00           Approved    1  06May1989\n",
      "3  01Feb2010 0:00:00           Approved    2  06Dec1987\n",
      "4  02Feb2010 0:00:00           Rejected    1  18May1989\n"
     ]
    }
   ],
   "source": [
    "print(dev.head())\n",
    "print(dev.isnull().sum())\n",
    "print(dev.dtypes)\n",
    "dev_str = dev.select_dtypes(include='object')\n",
    "print(dev_str.head())"
   ],
   "metadata": {
    "collapsed": false,
    "ExecuteTime": {
     "end_time": "2024-03-11T12:41:53.736910Z",
     "start_time": "2024-03-11T12:41:53.691790Z"
    }
   },
   "id": "e11fbb980533e097",
   "execution_count": 10
  },
  {
   "cell_type": "code",
   "outputs": [
    {
     "data": {
      "text/plain": "             ID  customer_id application_date  target Application_status  \\\n0      11034977     32537148       2010-02-01     0.0           Approved   \n1      11034978     32761663       2010-02-01     0.0           Approved   \n2      11034979     32701063       2010-02-01     0.0           Approved   \n3      11034980     32386786       2010-02-01     0.0           Approved   \n5      11034982     32861919       2010-02-02     0.0           Approved   \n...         ...          ...              ...     ...                ...   \n49992  11084969     32845249       2020-12-31     0.0           Approved   \n49993  11084970     32623752       2020-12-31     0.0           Approved   \n49995  11084972     32554904       2020-12-31     1.0           Approved   \n49997  11084974     32433438       2020-12-31     0.0           Approved   \n49999  11084976     32834539       2020-12-31     0.0           Approved   \n\n       Var1  Var2 Var3   Var4  Var5  ...  Var22  Var23  Var24     Var25  \\\n0         1     2    1   7800    99  ...      1      1      0   6768.42   \n1         1     1    2  11100    78  ...      0      0  15000   5937.66   \n2         2     3    1   2400    15  ...      2      2      0   5647.77   \n3         3     1    2  11800    30  ...      0      0      0   3594.90   \n5         1     2    1   7200    36  ...      2      2      0   1828.62   \n...     ...   ...  ...    ...   ...  ...    ...    ...    ...       ...   \n49992     1     3    3   5800     6  ...      3      3      0       NaN   \n49993     1     2    2  26100    15  ...      0      0      0  10816.79   \n49995     2     1    1  49200   111  ...      2      2      0       NaN   \n49997     1     1    1  46700    18  ...      0      0      0   9288.87   \n49999     1     3    3   6400     9  ...      0      0      0       NaN   \n\n           Var26  Var27  Var28 Var29  Var30       _r_  \n0           0.00      0      0     0   3899  0.267045  \n1        3870.60      0      0     0   3899  0.533040  \n2        1463.08      0      0    10   3899  0.861555  \n3       21563.78      0      0    10   3899  0.506451  \n5            NaN      0      0    10   3899  0.003446  \n...          ...    ...    ...   ...    ...       ...  \n49992        NaN      0      0     0  12832  0.654447  \n49993  108005.34      0      0     0  12832  0.225416  \n49995        NaN      0      0     0  12832  0.783954  \n49997  255018.31      0      0     0  12832  0.060722  \n49999        NaN      0      0     0  12832  0.733623  \n\n[35700 rows x 36 columns]",
      "text/html": "<div>\n<style scoped>\n    .dataframe tbody tr th:only-of-type {\n        vertical-align: middle;\n    }\n\n    .dataframe tbody tr th {\n        vertical-align: top;\n    }\n\n    .dataframe thead th {\n        text-align: right;\n    }\n</style>\n<table border=\"1\" class=\"dataframe\">\n  <thead>\n    <tr style=\"text-align: right;\">\n      <th></th>\n      <th>ID</th>\n      <th>customer_id</th>\n      <th>application_date</th>\n      <th>target</th>\n      <th>Application_status</th>\n      <th>Var1</th>\n      <th>Var2</th>\n      <th>Var3</th>\n      <th>Var4</th>\n      <th>Var5</th>\n      <th>...</th>\n      <th>Var22</th>\n      <th>Var23</th>\n      <th>Var24</th>\n      <th>Var25</th>\n      <th>Var26</th>\n      <th>Var27</th>\n      <th>Var28</th>\n      <th>Var29</th>\n      <th>Var30</th>\n      <th>_r_</th>\n    </tr>\n  </thead>\n  <tbody>\n    <tr>\n      <th>0</th>\n      <td>11034977</td>\n      <td>32537148</td>\n      <td>2010-02-01</td>\n      <td>0.0</td>\n      <td>Approved</td>\n      <td>1</td>\n      <td>2</td>\n      <td>1</td>\n      <td>7800</td>\n      <td>99</td>\n      <td>...</td>\n      <td>1</td>\n      <td>1</td>\n      <td>0</td>\n      <td>6768.42</td>\n      <td>0.00</td>\n      <td>0</td>\n      <td>0</td>\n      <td>0</td>\n      <td>3899</td>\n      <td>0.267045</td>\n    </tr>\n    <tr>\n      <th>1</th>\n      <td>11034978</td>\n      <td>32761663</td>\n      <td>2010-02-01</td>\n      <td>0.0</td>\n      <td>Approved</td>\n      <td>1</td>\n      <td>1</td>\n      <td>2</td>\n      <td>11100</td>\n      <td>78</td>\n      <td>...</td>\n      <td>0</td>\n      <td>0</td>\n      <td>15000</td>\n      <td>5937.66</td>\n      <td>3870.60</td>\n      <td>0</td>\n      <td>0</td>\n      <td>0</td>\n      <td>3899</td>\n      <td>0.533040</td>\n    </tr>\n    <tr>\n      <th>2</th>\n      <td>11034979</td>\n      <td>32701063</td>\n      <td>2010-02-01</td>\n      <td>0.0</td>\n      <td>Approved</td>\n      <td>2</td>\n      <td>3</td>\n      <td>1</td>\n      <td>2400</td>\n      <td>15</td>\n      <td>...</td>\n      <td>2</td>\n      <td>2</td>\n      <td>0</td>\n      <td>5647.77</td>\n      <td>1463.08</td>\n      <td>0</td>\n      <td>0</td>\n      <td>10</td>\n      <td>3899</td>\n      <td>0.861555</td>\n    </tr>\n    <tr>\n      <th>3</th>\n      <td>11034980</td>\n      <td>32386786</td>\n      <td>2010-02-01</td>\n      <td>0.0</td>\n      <td>Approved</td>\n      <td>3</td>\n      <td>1</td>\n      <td>2</td>\n      <td>11800</td>\n      <td>30</td>\n      <td>...</td>\n      <td>0</td>\n      <td>0</td>\n      <td>0</td>\n      <td>3594.90</td>\n      <td>21563.78</td>\n      <td>0</td>\n      <td>0</td>\n      <td>10</td>\n      <td>3899</td>\n      <td>0.506451</td>\n    </tr>\n    <tr>\n      <th>5</th>\n      <td>11034982</td>\n      <td>32861919</td>\n      <td>2010-02-02</td>\n      <td>0.0</td>\n      <td>Approved</td>\n      <td>1</td>\n      <td>2</td>\n      <td>1</td>\n      <td>7200</td>\n      <td>36</td>\n      <td>...</td>\n      <td>2</td>\n      <td>2</td>\n      <td>0</td>\n      <td>1828.62</td>\n      <td>NaN</td>\n      <td>0</td>\n      <td>0</td>\n      <td>10</td>\n      <td>3899</td>\n      <td>0.003446</td>\n    </tr>\n    <tr>\n      <th>...</th>\n      <td>...</td>\n      <td>...</td>\n      <td>...</td>\n      <td>...</td>\n      <td>...</td>\n      <td>...</td>\n      <td>...</td>\n      <td>...</td>\n      <td>...</td>\n      <td>...</td>\n      <td>...</td>\n      <td>...</td>\n      <td>...</td>\n      <td>...</td>\n      <td>...</td>\n      <td>...</td>\n      <td>...</td>\n      <td>...</td>\n      <td>...</td>\n      <td>...</td>\n      <td>...</td>\n    </tr>\n    <tr>\n      <th>49992</th>\n      <td>11084969</td>\n      <td>32845249</td>\n      <td>2020-12-31</td>\n      <td>0.0</td>\n      <td>Approved</td>\n      <td>1</td>\n      <td>3</td>\n      <td>3</td>\n      <td>5800</td>\n      <td>6</td>\n      <td>...</td>\n      <td>3</td>\n      <td>3</td>\n      <td>0</td>\n      <td>NaN</td>\n      <td>NaN</td>\n      <td>0</td>\n      <td>0</td>\n      <td>0</td>\n      <td>12832</td>\n      <td>0.654447</td>\n    </tr>\n    <tr>\n      <th>49993</th>\n      <td>11084970</td>\n      <td>32623752</td>\n      <td>2020-12-31</td>\n      <td>0.0</td>\n      <td>Approved</td>\n      <td>1</td>\n      <td>2</td>\n      <td>2</td>\n      <td>26100</td>\n      <td>15</td>\n      <td>...</td>\n      <td>0</td>\n      <td>0</td>\n      <td>0</td>\n      <td>10816.79</td>\n      <td>108005.34</td>\n      <td>0</td>\n      <td>0</td>\n      <td>0</td>\n      <td>12832</td>\n      <td>0.225416</td>\n    </tr>\n    <tr>\n      <th>49995</th>\n      <td>11084972</td>\n      <td>32554904</td>\n      <td>2020-12-31</td>\n      <td>1.0</td>\n      <td>Approved</td>\n      <td>2</td>\n      <td>1</td>\n      <td>1</td>\n      <td>49200</td>\n      <td>111</td>\n      <td>...</td>\n      <td>2</td>\n      <td>2</td>\n      <td>0</td>\n      <td>NaN</td>\n      <td>NaN</td>\n      <td>0</td>\n      <td>0</td>\n      <td>0</td>\n      <td>12832</td>\n      <td>0.783954</td>\n    </tr>\n    <tr>\n      <th>49997</th>\n      <td>11084974</td>\n      <td>32433438</td>\n      <td>2020-12-31</td>\n      <td>0.0</td>\n      <td>Approved</td>\n      <td>1</td>\n      <td>1</td>\n      <td>1</td>\n      <td>46700</td>\n      <td>18</td>\n      <td>...</td>\n      <td>0</td>\n      <td>0</td>\n      <td>0</td>\n      <td>9288.87</td>\n      <td>255018.31</td>\n      <td>0</td>\n      <td>0</td>\n      <td>0</td>\n      <td>12832</td>\n      <td>0.060722</td>\n    </tr>\n    <tr>\n      <th>49999</th>\n      <td>11084976</td>\n      <td>32834539</td>\n      <td>2020-12-31</td>\n      <td>0.0</td>\n      <td>Approved</td>\n      <td>1</td>\n      <td>3</td>\n      <td>3</td>\n      <td>6400</td>\n      <td>9</td>\n      <td>...</td>\n      <td>0</td>\n      <td>0</td>\n      <td>0</td>\n      <td>NaN</td>\n      <td>NaN</td>\n      <td>0</td>\n      <td>0</td>\n      <td>0</td>\n      <td>12832</td>\n      <td>0.733623</td>\n    </tr>\n  </tbody>\n</table>\n<p>35700 rows × 36 columns</p>\n</div>"
     },
     "execution_count": 11,
     "metadata": {},
     "output_type": "execute_result"
    }
   ],
   "source": [
    "dev = sanitize(dev)\n",
    "# dev.rename(columns=descriptions, inplace=True)  # Rename columns using the descriptions dictionary\n",
    "selcom = ['Var2', 'Var18']\n",
    "dev[selcom]\n",
    "dev['Var2'] = dev['Var2'].astype(int)\n",
    "dev"
   ],
   "metadata": {
    "collapsed": false,
    "ExecuteTime": {
     "end_time": "2024-03-11T12:41:53.876921Z",
     "start_time": "2024-03-11T12:41:53.738288Z"
    }
   },
   "id": "61e715b79ed59fb7",
   "execution_count": 11
  },
  {
   "cell_type": "code",
   "outputs": [
    {
     "data": {
      "text/plain": "             ID  customer_id application_date  target Application_status  \\\n0      11034977     32537148       2010-02-01     0.0           Approved   \n1      11034978     32761663       2010-02-01     0.0           Approved   \n2      11034979     32701063       2010-02-01     0.0           Approved   \n3      11034980     32386786       2010-02-01     0.0           Approved   \n5      11034982     32861919       2010-02-02     0.0           Approved   \n...         ...          ...              ...     ...                ...   \n49992  11084969     32845249       2020-12-31     0.0           Approved   \n49993  11084970     32623752       2020-12-31     0.0           Approved   \n49995  11084972     32554904       2020-12-31     1.0           Approved   \n49997  11084974     32433438       2020-12-31     0.0           Approved   \n49999  11084976     32834539       2020-12-31     0.0           Approved   \n\n       Var1 Var3   Var4  Var5  Var6  ...  Var27  Var28  Var29  Var30  \\\n0         1    1   7800    99     1  ...      0      0      0   3899   \n1         1    2  11100    78     1  ...      0      0      0   3899   \n2         2    1   2400    15     1  ...      0      0     10   3899   \n3         3    2  11800    30     6  ...      0      0     10   3899   \n5         1    1   7200    36     1  ...      0      0     10   3899   \n...     ...  ...    ...   ...   ...  ...    ...    ...    ...    ...   \n49992     1    3   5800     6     6  ...      0      0      0  12832   \n49993     1    2  26100    15     3  ...      0      0      0  12832   \n49995     2    1  49200   111     1  ...      0      0      0  12832   \n49997     1    1  46700    18     1  ...      0      0      0  12832   \n49999     1    3   6400     9     1  ...      0      0      0  12832   \n\n            _r_  loan_purpose_3 loan_purpose_1_0  loan_purpose_1_1  \\\n0      0.267045               0                0                 0   \n1      0.533040               0                0                 1   \n2      0.861555               1                0                 0   \n3      0.506451               0                1                 0   \n5      0.003446               0                0                 0   \n...         ...             ...              ...               ...   \n49992  0.654447               1                0                 0   \n49993  0.225416               0                0                 0   \n49995  0.783954               0                1                 0   \n49997  0.060722               0                0                 1   \n49999  0.733623               1                0                 0   \n\n       loan_purpose_2_0  loan_purpose_2_1  \n0                     0                 1  \n1                     0                 0  \n2                     0                 0  \n3                     0                 0  \n5                     1                 0  \n...                 ...               ...  \n49992                 0                 0  \n49993                 0                 1  \n49995                 0                 0  \n49997                 0                 0  \n49999                 0                 0  \n\n[35700 rows x 38 columns]",
      "text/html": "<div>\n<style scoped>\n    .dataframe tbody tr th:only-of-type {\n        vertical-align: middle;\n    }\n\n    .dataframe tbody tr th {\n        vertical-align: top;\n    }\n\n    .dataframe thead th {\n        text-align: right;\n    }\n</style>\n<table border=\"1\" class=\"dataframe\">\n  <thead>\n    <tr style=\"text-align: right;\">\n      <th></th>\n      <th>ID</th>\n      <th>customer_id</th>\n      <th>application_date</th>\n      <th>target</th>\n      <th>Application_status</th>\n      <th>Var1</th>\n      <th>Var3</th>\n      <th>Var4</th>\n      <th>Var5</th>\n      <th>Var6</th>\n      <th>...</th>\n      <th>Var27</th>\n      <th>Var28</th>\n      <th>Var29</th>\n      <th>Var30</th>\n      <th>_r_</th>\n      <th>loan_purpose_3</th>\n      <th>loan_purpose_1_0</th>\n      <th>loan_purpose_1_1</th>\n      <th>loan_purpose_2_0</th>\n      <th>loan_purpose_2_1</th>\n    </tr>\n  </thead>\n  <tbody>\n    <tr>\n      <th>0</th>\n      <td>11034977</td>\n      <td>32537148</td>\n      <td>2010-02-01</td>\n      <td>0.0</td>\n      <td>Approved</td>\n      <td>1</td>\n      <td>1</td>\n      <td>7800</td>\n      <td>99</td>\n      <td>1</td>\n      <td>...</td>\n      <td>0</td>\n      <td>0</td>\n      <td>0</td>\n      <td>3899</td>\n      <td>0.267045</td>\n      <td>0</td>\n      <td>0</td>\n      <td>0</td>\n      <td>0</td>\n      <td>1</td>\n    </tr>\n    <tr>\n      <th>1</th>\n      <td>11034978</td>\n      <td>32761663</td>\n      <td>2010-02-01</td>\n      <td>0.0</td>\n      <td>Approved</td>\n      <td>1</td>\n      <td>2</td>\n      <td>11100</td>\n      <td>78</td>\n      <td>1</td>\n      <td>...</td>\n      <td>0</td>\n      <td>0</td>\n      <td>0</td>\n      <td>3899</td>\n      <td>0.533040</td>\n      <td>0</td>\n      <td>0</td>\n      <td>1</td>\n      <td>0</td>\n      <td>0</td>\n    </tr>\n    <tr>\n      <th>2</th>\n      <td>11034979</td>\n      <td>32701063</td>\n      <td>2010-02-01</td>\n      <td>0.0</td>\n      <td>Approved</td>\n      <td>2</td>\n      <td>1</td>\n      <td>2400</td>\n      <td>15</td>\n      <td>1</td>\n      <td>...</td>\n      <td>0</td>\n      <td>0</td>\n      <td>10</td>\n      <td>3899</td>\n      <td>0.861555</td>\n      <td>1</td>\n      <td>0</td>\n      <td>0</td>\n      <td>0</td>\n      <td>0</td>\n    </tr>\n    <tr>\n      <th>3</th>\n      <td>11034980</td>\n      <td>32386786</td>\n      <td>2010-02-01</td>\n      <td>0.0</td>\n      <td>Approved</td>\n      <td>3</td>\n      <td>2</td>\n      <td>11800</td>\n      <td>30</td>\n      <td>6</td>\n      <td>...</td>\n      <td>0</td>\n      <td>0</td>\n      <td>10</td>\n      <td>3899</td>\n      <td>0.506451</td>\n      <td>0</td>\n      <td>1</td>\n      <td>0</td>\n      <td>0</td>\n      <td>0</td>\n    </tr>\n    <tr>\n      <th>5</th>\n      <td>11034982</td>\n      <td>32861919</td>\n      <td>2010-02-02</td>\n      <td>0.0</td>\n      <td>Approved</td>\n      <td>1</td>\n      <td>1</td>\n      <td>7200</td>\n      <td>36</td>\n      <td>1</td>\n      <td>...</td>\n      <td>0</td>\n      <td>0</td>\n      <td>10</td>\n      <td>3899</td>\n      <td>0.003446</td>\n      <td>0</td>\n      <td>0</td>\n      <td>0</td>\n      <td>1</td>\n      <td>0</td>\n    </tr>\n    <tr>\n      <th>...</th>\n      <td>...</td>\n      <td>...</td>\n      <td>...</td>\n      <td>...</td>\n      <td>...</td>\n      <td>...</td>\n      <td>...</td>\n      <td>...</td>\n      <td>...</td>\n      <td>...</td>\n      <td>...</td>\n      <td>...</td>\n      <td>...</td>\n      <td>...</td>\n      <td>...</td>\n      <td>...</td>\n      <td>...</td>\n      <td>...</td>\n      <td>...</td>\n      <td>...</td>\n      <td>...</td>\n    </tr>\n    <tr>\n      <th>49992</th>\n      <td>11084969</td>\n      <td>32845249</td>\n      <td>2020-12-31</td>\n      <td>0.0</td>\n      <td>Approved</td>\n      <td>1</td>\n      <td>3</td>\n      <td>5800</td>\n      <td>6</td>\n      <td>6</td>\n      <td>...</td>\n      <td>0</td>\n      <td>0</td>\n      <td>0</td>\n      <td>12832</td>\n      <td>0.654447</td>\n      <td>1</td>\n      <td>0</td>\n      <td>0</td>\n      <td>0</td>\n      <td>0</td>\n    </tr>\n    <tr>\n      <th>49993</th>\n      <td>11084970</td>\n      <td>32623752</td>\n      <td>2020-12-31</td>\n      <td>0.0</td>\n      <td>Approved</td>\n      <td>1</td>\n      <td>2</td>\n      <td>26100</td>\n      <td>15</td>\n      <td>3</td>\n      <td>...</td>\n      <td>0</td>\n      <td>0</td>\n      <td>0</td>\n      <td>12832</td>\n      <td>0.225416</td>\n      <td>0</td>\n      <td>0</td>\n      <td>0</td>\n      <td>0</td>\n      <td>1</td>\n    </tr>\n    <tr>\n      <th>49995</th>\n      <td>11084972</td>\n      <td>32554904</td>\n      <td>2020-12-31</td>\n      <td>1.0</td>\n      <td>Approved</td>\n      <td>2</td>\n      <td>1</td>\n      <td>49200</td>\n      <td>111</td>\n      <td>1</td>\n      <td>...</td>\n      <td>0</td>\n      <td>0</td>\n      <td>0</td>\n      <td>12832</td>\n      <td>0.783954</td>\n      <td>0</td>\n      <td>1</td>\n      <td>0</td>\n      <td>0</td>\n      <td>0</td>\n    </tr>\n    <tr>\n      <th>49997</th>\n      <td>11084974</td>\n      <td>32433438</td>\n      <td>2020-12-31</td>\n      <td>0.0</td>\n      <td>Approved</td>\n      <td>1</td>\n      <td>1</td>\n      <td>46700</td>\n      <td>18</td>\n      <td>1</td>\n      <td>...</td>\n      <td>0</td>\n      <td>0</td>\n      <td>0</td>\n      <td>12832</td>\n      <td>0.060722</td>\n      <td>0</td>\n      <td>0</td>\n      <td>1</td>\n      <td>0</td>\n      <td>0</td>\n    </tr>\n    <tr>\n      <th>49999</th>\n      <td>11084976</td>\n      <td>32834539</td>\n      <td>2020-12-31</td>\n      <td>0.0</td>\n      <td>Approved</td>\n      <td>1</td>\n      <td>3</td>\n      <td>6400</td>\n      <td>9</td>\n      <td>1</td>\n      <td>...</td>\n      <td>0</td>\n      <td>0</td>\n      <td>0</td>\n      <td>12832</td>\n      <td>0.733623</td>\n      <td>1</td>\n      <td>0</td>\n      <td>0</td>\n      <td>0</td>\n      <td>0</td>\n    </tr>\n  </tbody>\n</table>\n<p>35700 rows × 38 columns</p>\n</div>"
     },
     "execution_count": 12,
     "metadata": {},
     "output_type": "execute_result"
    }
   ],
   "source": [
    "dev = pd.get_dummies(dev, columns=['Var2'], prefix='loan_purpose')\n",
    "dev['loan_purpose_1_0'] = ((dev['loan_purpose_1'] == 1) & (dev['Var19'] == 0)).astype(int)\n",
    "dev['loan_purpose_1_1'] = ((dev['loan_purpose_1'] == 1) & (dev['Var19'] == 1)).astype(int)\n",
    "dev['loan_purpose_2_0'] = ((dev['loan_purpose_2'] == 1) & (dev['Var18'] == 0)).astype(int)\n",
    "dev['loan_purpose_2_1'] = ((dev['loan_purpose_2'] == 1) & (dev['Var18'] == 1)).astype(int)\n",
    "drops = ['loan_purpose_1', 'loan_purpose_2', 'Var18', 'Var19']\n",
    "dev.drop(columns=drops, axis=1, inplace=True)\n",
    "dev"
   ],
   "metadata": {
    "collapsed": false,
    "ExecuteTime": {
     "end_time": "2024-03-11T12:41:53.927051Z",
     "start_time": "2024-03-11T12:41:53.878667Z"
    }
   },
   "id": "f480639ca952e8a1",
   "execution_count": 12
  },
  {
   "cell_type": "code",
   "outputs": [],
   "source": [],
   "metadata": {
    "collapsed": false,
    "ExecuteTime": {
     "end_time": "2024-03-11T12:41:53.931813Z",
     "start_time": "2024-03-11T12:41:53.928826Z"
    }
   },
   "id": "73722dc5d49d5659",
   "execution_count": 12
  },
  {
   "cell_type": "code",
   "outputs": [],
   "source": [],
   "metadata": {
    "collapsed": false,
    "ExecuteTime": {
     "end_time": "2024-03-11T12:41:53.935419Z",
     "start_time": "2024-03-11T12:41:53.933010Z"
    }
   },
   "id": "2b2d2a5c139c7e36",
   "execution_count": 12
  }
 ],
 "metadata": {
  "kernelspec": {
   "display_name": "Python 3",
   "language": "python",
   "name": "python3"
  },
  "language_info": {
   "codemirror_mode": {
    "name": "ipython",
    "version": 2
   },
   "file_extension": ".py",
   "mimetype": "text/x-python",
   "name": "python",
   "nbconvert_exporter": "python",
   "pygments_lexer": "ipython2",
   "version": "2.7.6"
  }
 },
 "nbformat": 4,
 "nbformat_minor": 5
}
