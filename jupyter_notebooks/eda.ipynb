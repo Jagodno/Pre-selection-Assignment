{
 "cells": [
  {
   "cell_type": "markdown",
   "metadata": {},
   "source": [
    "Exploratory Data Analysis"
   ]
  },
  {
   "cell_type": "markdown",
   "metadata": {},
   "source": [
    "TASKS:\n",
    "1. Describe the dataset (e.g., descriptive statistics, missing values, target rate).\n",
    "    wymiary, ile jest brakujacych danych w poszczgolnych kolumnach, correlation heatmap, \n",
    "Describe the feature engineering procedure and the data treatments you followed (if any).\n",
    "Describe the model selection process you applied (e.g., criteria for feature selection, estimation technique of the model parameters).\n",
    "Explain the final model in terms of statistical results and business interpretation of regression coefficients.\n",
    "Present the assumptions of the logistic regression and check if they are fulfilled by your model.\n",
    "Calculate the following performance metrics: Accuracy, Precision, Recall and F1 score both in Testing and Training samples.\n",
    "Create the ROC curve (AUC) and explain the discriminatory power of the model both in Testing and Training samples."
   ]
  },
  {
   "cell_type": "code",
   "execution_count": null,
   "metadata": {
    "vscode": {
     "languageId": "plaintext"
    }
   },
   "outputs": [],
   "source": [
    "import pandas as pd"
   ]
  }
 ],
 "metadata": {
  "language_info": {
   "name": "python"
  }
 },
 "nbformat": 4,
 "nbformat_minor": 2
}
